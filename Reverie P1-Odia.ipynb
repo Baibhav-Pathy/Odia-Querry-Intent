{
 "cells": [
  {
   "cell_type": "code",
   "execution_count": 14,
   "id": "a19595d6",
   "metadata": {},
   "outputs": [],
   "source": [
    "import numpy as np\n",
    "import pandas as pd\n",
    "from sklearn.model_selection import train_test_split\n",
    "from sklearn.feature_extraction.text import TfidfVectorizer\n",
    "from sklearn.svm import SVC\n",
    "from sklearn.metrics import accuracy_score, classification_report\n",
    "from sklearn.naive_bayes import MultinomialNB\n",
    "from indicnlp.tokenize import indic_tokenize"
   ]
  },
  {
   "cell_type": "code",
   "execution_count": 15,
   "id": "7084c5d8",
   "metadata": {},
   "outputs": [],
   "source": [
    "# Load your dataset \n",
    "data = pd.read_csv('odia.csv')"
   ]
  },
  {
   "cell_type": "code",
   "execution_count": 16,
   "id": "a753caf5",
   "metadata": {},
   "outputs": [],
   "source": [
    "# Load or define a odia stop words list\n",
    "odia_stopwords = [\"ଅ\",\"ଆମ\",\"ଆସି\",\"ଏ\",\"ଅଉ\",\"ଓ\",\"ଯେ\",\"କେ\",\"କେବଳ\",\"ଏଥିରୁ\"]"
   ]
  },
  {
   "cell_type": "code",
   "execution_count": 17,
   "id": "072119cf",
   "metadata": {},
   "outputs": [],
   "source": [
    "# Preprocessing with odia stop words and tokenizer\n",
    "def preprocess_odia_text(text):\n",
    "    # Tokenize the text using the odia tokenizer\n",
    "    tokens = indic_tokenize.trivial_tokenize(text)\n",
    "    \n",
    "    # Remove stop words\n",
    "    tokens = [word for word in tokens if word not in odia_stopwords]\n",
    "    \n",
    "    # Join the tokens back into a text string\n",
    "    processed_text = ' '.join(tokens)\n",
    "    \n",
    "    return processed_text\n",
    "\n",
    "data['query'] = data['query'].apply(preprocess_odia_text)"
   ]
  },
  {
   "cell_type": "code",
   "execution_count": 18,
   "id": "aa266785",
   "metadata": {},
   "outputs": [],
   "source": [
    "# Split the data into training and testing sets\n",
    "X_train, X_test, y_train, y_test = train_test_split(data['query'], data['intent'], test_size=0.2, random_state=32)"
   ]
  },
  {
   "cell_type": "code",
   "execution_count": 19,
   "id": "ea521e3d",
   "metadata": {},
   "outputs": [],
   "source": [
    "# Feature extraction using TF-IDF\n",
    "tfidf_vectorizer = TfidfVectorizer()\n",
    "X_train_tfidf = tfidf_vectorizer.fit_transform(X_train)\n",
    "X_test_tfidf = tfidf_vectorizer.transform(X_test)"
   ]
  },
  {
   "cell_type": "code",
   "execution_count": 20,
   "id": "344ae695",
   "metadata": {},
   "outputs": [
    {
     "data": {
      "text/plain": [
       "MultinomialNB()"
      ]
     },
     "execution_count": 20,
     "metadata": {},
     "output_type": "execute_result"
    }
   ],
   "source": [
    "# Choose a classifier\n",
    "classifier = MultinomialNB()\n",
    "# Train the classifier\n",
    "classifier.fit(X_train_tfidf, y_train)"
   ]
  },
  {
   "cell_type": "code",
   "execution_count": 21,
   "id": "ec827a84",
   "metadata": {},
   "outputs": [
    {
     "name": "stdout",
     "output_type": "stream",
     "text": [
      "Accuracy: 0.7222222222222222\n",
      "Classification Report:\n",
      "               precision    recall  f1-score   support\n",
      "\n",
      "          No       0.60      0.50      0.55         6\n",
      "         Yes       0.77      0.83      0.80        12\n",
      "\n",
      "    accuracy                           0.72        18\n",
      "   macro avg       0.68      0.67      0.67        18\n",
      "weighted avg       0.71      0.72      0.72        18\n",
      "\n"
     ]
    }
   ],
   "source": [
    "# Make predictions on the testing data\n",
    "y_pred = classifier.predict(X_test_tfidf)\n",
    "\n",
    "# Evaluate the model\n",
    "accuracy = accuracy_score(y_test, y_pred)\n",
    "report = classification_report(y_test, y_pred)\n",
    "\n",
    "\n",
    "print(\"Accuracy:\", accuracy)\n",
    "print(\"Classification Report:\\n\", report)"
   ]
  },
  {
   "cell_type": "code",
   "execution_count": 31,
   "id": "090dd4fa",
   "metadata": {},
   "outputs": [],
   "source": [
    "#Inference Function with \"ମୁଁ ବୁଝି ପାରୁନି\" Threshold\n",
    "\n",
    "def predict_intent(input_text, threshold=0.5):\n",
    "    input_text = input_text\n",
    "    input_text = tfidf_vectorizer.transform([input_text])\n",
    "    probabilities = classifier.predict_proba(input_text)[0]\n",
    "    \n",
    "    max_prob = max(probabilities)\n",
    "    if max_prob < threshold:\n",
    "        return \"ମୁଁ ବୁଝି ପାରୁନି\"\n",
    "        \n",
    "    intent = classifier.classes_[np.argmax(probabilities)]\n",
    "    return intent"
   ]
  },
  {
   "cell_type": "code",
   "execution_count": 32,
   "id": "08495661",
   "metadata": {},
   "outputs": [
    {
     "name": "stdout",
     "output_type": "stream",
     "text": [
      "intent 'ଠିକ': Yes\n"
     ]
    }
   ],
   "source": [
    "# Testing the predict_intent function with odia text\n",
    "input_text = \"ଠିକ\"\n",
    "intent = predict_intent(input_text)\n",
    "print(f\"intent '{input_text}': {intent}\")"
   ]
  },
  {
   "cell_type": "code",
   "execution_count": 30,
   "id": "0c707a54",
   "metadata": {},
   "outputs": [
    {
     "name": "stdout",
     "output_type": "stream",
     "text": [
      "Intent for 'ଆ': ମୁଁ ବୁଝି ପାରୁନି\n"
     ]
    }
   ],
   "source": [
    "# Testing the predict_intent function with \"ଖାଦ୍ୟ\"\n",
    "input_text = \"ଆ\"\n",
    "intent = predict_intent(input_text)\n",
    "print(f\"Intent for '{input_text}': {intent}\")"
   ]
  },
  {
   "cell_type": "code",
   "execution_count": 24,
   "id": "c1203856",
   "metadata": {},
   "outputs": [
    {
     "name": "stdout",
     "output_type": "stream",
     "text": [
      "Intent for 'ଅନୁଚିତ': No\n"
     ]
    }
   ],
   "source": [
    "# Testing the predict_intent function with \"ଅନୁଚିତ\"\n",
    "input_text = \"ଅନୁଚିତ\"\n",
    "intent = predict_intent(input_text)\n",
    "print(f\"Intent for '{input_text}': {intent}\")"
   ]
  },
  {
   "cell_type": "code",
   "execution_count": null,
   "id": "b86e8338",
   "metadata": {},
   "outputs": [],
   "source": []
  },
  {
   "cell_type": "code",
   "execution_count": null,
   "id": "c8e38e91",
   "metadata": {},
   "outputs": [],
   "source": []
  }
 ],
 "metadata": {
  "kernelspec": {
   "display_name": "Python 3 (ipykernel)",
   "language": "python",
   "name": "python3"
  },
  "language_info": {
   "codemirror_mode": {
    "name": "ipython",
    "version": 3
   },
   "file_extension": ".py",
   "mimetype": "text/x-python",
   "name": "python",
   "nbconvert_exporter": "python",
   "pygments_lexer": "ipython3",
   "version": "3.9.12"
  }
 },
 "nbformat": 4,
 "nbformat_minor": 5
}
